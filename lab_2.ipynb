{
  "nbformat": 4,
  "nbformat_minor": 0,
  "metadata": {
    "colab": {
      "provenance": [],
      "authorship_tag": "ABX9TyPxhCeDBczHY+JbrFnHYRES",
      "include_colab_link": true
    },
    "kernelspec": {
      "name": "python3",
      "display_name": "Python 3"
    },
    "language_info": {
      "name": "python"
    }
  },
  "cells": [
    {
      "cell_type": "markdown",
      "metadata": {
        "id": "view-in-github",
        "colab_type": "text"
      },
      "source": [
        "<a href=\"https://colab.research.google.com/github/Laxmipranav/AIML/blob/main/lab_2.ipynb\" target=\"_parent\"><img src=\"https://colab.research.google.com/assets/colab-badge.svg\" alt=\"Open In Colab\"/></a>"
      ]
    },
    {
      "cell_type": "code",
      "execution_count": null,
      "metadata": {
        "id": "1N8Uhy0XYECP"
      },
      "outputs": [],
      "source": []
    },
    {
      "cell_type": "code",
      "source": [
        "from copy import deepcopy\n",
        "import numpy as np\n",
        "import time\n",
        "def bestsolution(state):\n",
        "  bestsol =np.array([],int).reshape(-1,9)\n",
        "  count =len(state)-1\n",
        "  while count  | =  -1:\n",
        "    bestsol =np.insert(bestsol, 0, state[count]['puzzle'], 0)\n",
        "    count =(state[count]['parent'])\n",
        "    return bestsol.reshape(-1, 3 ,3)\n",
        "\n",
        "\n",
        "# checks for the uniqueness of the iteration (it).\n",
        "def all(checkarray):\n",
        "  set=[]\n",
        "  for it in set:\n",
        "       for checkarray in it:\n",
        "            return 1\n",
        "       else:\n",
        "              return 0\n",
        "\n",
        "\n",
        " # number of misplaced tiles\n",
        "def misplaced_tiles(puzzle,goal).\n",
        "      mscost = np.sum(puzzle |= goal) - 1\n",
        "      return mscost if mscost > 0 else 0\n"
      ],
      "metadata": {
        "id": "jhBHfAAna6vk"
      },
      "execution_count": null,
      "outputs": []
    }
  ]
}